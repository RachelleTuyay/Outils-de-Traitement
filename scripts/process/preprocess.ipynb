{
 "cells": [
  {
   "cell_type": "code",
   "execution_count": 10,
   "id": "d60ec4b1",
   "metadata": {},
   "outputs": [],
   "source": [
    "import spacy, os, glob\n",
    "nlp = spacy.load('fr_core_news_sm')  \n",
    "#!python -m spacy download fr_core_news_sm"
   ]
  },
  {
   "cell_type": "code",
   "execution_count": 11,
   "id": "863d8984",
   "metadata": {},
   "outputs": [
    {
     "name": "stdout",
     "output_type": "stream",
     "text": [
      "30 documents chargés.\n"
     ]
    }
   ],
   "source": [
    "corpus = \"../../data/raw\"\n",
    "\n",
    "#Chargement des fichiers .txt\n",
    "file_paths = glob.glob(os.path.join(corpus, '*.txt'))\n",
    "documents = [open(path, encoding='utf-8').read() for path in file_paths]\n",
    "print(f\"{len(documents)} documents chargés.\")\n",
    "\n",
    "def preprocess(text):\n",
    "    doc = nlp(text)\n",
    "    return \" \".join([t.lemma_.lower() for t in doc if t.is_alpha and not t.is_stop])"
   ]
  },
  {
   "cell_type": "code",
   "execution_count": 19,
   "id": "20cee482-8774-4f09-890e-ab1cb895683b",
   "metadata": {},
   "outputs": [
    {
     "name": "stdout",
     "output_type": "stream",
     "text": [
      "30 fichiers traités et sauvegardés dans '../data/clean'.\n"
     ]
    }
   ],
   "source": [
    "output = \"../data/clean\"\n",
    "os.makedirs(output, exist_ok=True)\n",
    "\n",
    "#Traitement :\n",
    "for i, path in enumerate(file_paths):\n",
    "    with open(path, encoding='utf-8') as f:\n",
    "        original_text = f.read()\n",
    "    cleaned = preprocess(original_text)\n",
    "    \n",
    "    #Sauvegarde :\n",
    "    base_name = os.path.basename(path)\n",
    "    output_path = os.path.join(output, base_name)\n",
    "    with open(output_path, 'w', encoding='utf-8') as out:\n",
    "        out.write(cleaned)\n",
    "\n",
    "print(f\"{len(file_paths)} fichiers traités et sauvegardés dans '{output}'.\")"
   ]
  },
  {
   "cell_type": "code",
   "execution_count": null,
   "id": "c98d9343-90ed-41a6-9f2b-4908a5de7176",
   "metadata": {},
   "outputs": [],
   "source": []
  }
 ],
 "metadata": {
  "kernelspec": {
   "display_name": "Python 3 (ipykernel)",
   "language": "python",
   "name": "python3"
  },
  "language_info": {
   "codemirror_mode": {
    "name": "ipython",
    "version": 3
   },
   "file_extension": ".py",
   "mimetype": "text/x-python",
   "name": "python",
   "nbconvert_exporter": "python",
   "pygments_lexer": "ipython3",
   "version": "3.12.3"
  }
 },
 "nbformat": 4,
 "nbformat_minor": 5
}
