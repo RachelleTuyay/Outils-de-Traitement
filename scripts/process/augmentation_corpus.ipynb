{
 "cells": [
  {
   "cell_type": "code",
   "execution_count": 2,
   "id": "ee82856a-626b-498d-bbc3-3f480cafafca",
   "metadata": {},
   "outputs": [],
   "source": [
    "#pip install nlpaug"
   ]
  },
  {
   "cell_type": "code",
   "execution_count": 20,
   "id": "0aa9cb79-ce87-4132-88a4-403636f1faac",
   "metadata": {},
   "outputs": [
    {
     "name": "stderr",
     "output_type": "stream",
     "text": [
      "[nltk_data] Downloading package wordnet to /home/rachou/nltk_data...\n",
      "[nltk_data]   Package wordnet is already up-to-date!\n",
      "[nltk_data] Downloading package omw-1.4 to /home/rachou/nltk_data...\n",
      "[nltk_data]   Package omw-1.4 is already up-to-date!\n"
     ]
    },
    {
     "data": {
      "text/plain": [
       "True"
      ]
     },
     "execution_count": 20,
     "metadata": {},
     "output_type": "execute_result"
    }
   ],
   "source": [
    "import os\n",
    "import glob\n",
    "import nlpaug.augmenter.word as naw\n",
    "import nltk\n",
    "import json\n",
    "\n",
    "nltk.download('wordnet')\n",
    "nltk.download('omw-1.4')"
   ]
  },
  {
   "cell_type": "code",
   "execution_count": 21,
   "id": "e564f4b3-e788-4810-8865-837a384c3ea1",
   "metadata": {},
   "outputs": [
    {
     "name": "stdout",
     "output_type": "stream",
     "text": [
      "✅ Augmentation terminée. 60 documents sauvegardés dans : ../data/augmented_corpus.json\n"
     ]
    }
   ],
   "source": [
    "corpus = \"../../data/clean\"\n",
    "\n",
    "# Charger les documents texte\n",
    "file_paths = glob.glob(os.path.join(corpus, \"*.txt\"))\n",
    "documents = []\n",
    "for path in file_paths:\n",
    "    with open(path, encoding='utf-8') as f:\n",
    "        documents.append(f.read())\n",
    "\n",
    "# Augmenteur : synonymes WordNet\n",
    "syn_aug = naw.SynonymAug(aug_src='wordnet')\n",
    "\n",
    "augmented_documents = []\n",
    "\n",
    "for i, doc in enumerate(documents):\n",
    "    try:\n",
    "        augmented = syn_aug.augment(doc)\n",
    "        # Assure que le résultat est une chaîne\n",
    "        if isinstance(augmented, list):\n",
    "            augmented = \" \".join(augmented)\n",
    "        augmented_documents.append(augmented)\n",
    "    except Exception as e:\n",
    "        print(f\"Erreur sur document {i+1} :\", e)\n",
    "\n",
    "# Fusionner originaux + augmentés\n",
    "all_documents = documents + augmented_documents\n",
    "\n",
    "# Sauvegarde dans un fichier JSON (structure de liste préservée)\n",
    "output_path = \"../data/augmented_corpus.json\"\n",
    "with open(output_path, \"w\", encoding=\"utf-8\") as f:\n",
    "    json.dump(all_documents, f, ensure_ascii=False, indent=2)\n",
    "\n",
    "print(f\"✅ Augmentation terminée. {len(all_documents)} documents sauvegardés dans : {output_path}\")\n"
   ]
  },
  {
   "cell_type": "code",
   "execution_count": null,
   "id": "38701b6c-7f5b-4227-8e4a-703f98f61b88",
   "metadata": {},
   "outputs": [],
   "source": []
  }
 ],
 "metadata": {
  "kernelspec": {
   "display_name": "Python 3 (ipykernel)",
   "language": "python",
   "name": "python3"
  },
  "language_info": {
   "codemirror_mode": {
    "name": "ipython",
    "version": 3
   },
   "file_extension": ".py",
   "mimetype": "text/x-python",
   "name": "python",
   "nbconvert_exporter": "python",
   "pygments_lexer": "ipython3",
   "version": "3.12.3"
  }
 },
 "nbformat": 4,
 "nbformat_minor": 5
}
